{
 "cells": [
  {
   "cell_type": "code",
   "execution_count": 1,
   "metadata": {},
   "outputs": [
    {
     "name": "stdout",
     "output_type": "stream",
     "text": [
      "Do you like travelling? y/n: y\n",
      "And do you like Asia? y/n: y\n",
      "Excellent! You can win a ticket to Thailand!\n"
     ]
    }
   ],
   "source": [
    "answer_a = input('Do you like travelling? y/n: ')\n",
    "if answer_a == 'y':\n",
    "    answer_b = input('And do you like Asia? y/n: ')\n",
    "    if answer_b == 'y':\n",
    "        print('Excellent! You can win a ticket to Thailand!')\n",
    "    else:\n",
    "        print('Sorry to hear that!')\n",
    "else:\n",
    "    print('Sorry to hear that!')"
   ]
  },
  {
   "cell_type": "code",
   "execution_count": 4,
   "metadata": {},
   "outputs": [
    {
     "name": "stdout",
     "output_type": "stream",
     "text": [
      "How many days ago have you purchased the item? 5\n",
      "Have you used the item at all [y/n]? n\n",
      "Has the item broken down on its own [y/n]?  y\n",
      "You can get a refund.\n"
     ]
    }
   ],
   "source": [
    "days = int(input('How many days ago have you purchased the item? '))\n",
    "used = input('Have you used the item at all [y/n]? ')\n",
    "broken = input('Has the item broken down on its own [y/n]?  ')\n",
    "\n",
    "if ((days <= 10 and used == 'n') or (broken == 'y')):\n",
    "    print('You can get a refund.')\n",
    "else:\n",
    "    print('You cannot get a refund.')"
   ]
  },
  {
   "cell_type": "code",
   "execution_count": null,
   "metadata": {},
   "outputs": [],
   "source": []
  }
 ],
 "metadata": {
  "kernelspec": {
   "display_name": "Python 3 (ipykernel)",
   "language": "python",
   "name": "python3"
  },
  "language_info": {
   "codemirror_mode": {
    "name": "ipython",
    "version": 3
   },
   "file_extension": ".py",
   "mimetype": "text/x-python",
   "name": "python",
   "nbconvert_exporter": "python",
   "pygments_lexer": "ipython3",
   "version": "3.9.13"
  }
 },
 "nbformat": 4,
 "nbformat_minor": 2
}
