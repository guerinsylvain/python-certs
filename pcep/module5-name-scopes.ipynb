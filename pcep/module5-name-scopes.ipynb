{
 "cells": [
  {
   "cell_type": "code",
   "execution_count": 1,
   "metadata": {},
   "outputs": [
    {
     "name": "stdout",
     "output_type": "stream",
     "text": [
      "Surprise!\n",
      "New Surprise!\n",
      "Surprise!\n"
     ]
    }
   ],
   "source": [
    "def show_truth():\n",
    "    # This is called shadowing !!!\n",
    "    mysterious_var = 'New Surprise!'\n",
    "    print(mysterious_var)\n",
    "\n",
    "mysterious_var = 'Surprise!'\n",
    "print(mysterious_var)\n",
    "show_truth()\n",
    "print(mysterious_var)"
   ]
  },
  {
   "cell_type": "code",
   "execution_count": 5,
   "metadata": {},
   "outputs": [
    {
     "name": "stdout",
     "output_type": "stream",
     "text": [
      "Surprise!\n",
      "New Surprise!\n",
      "New Surprise!\n"
     ]
    }
   ],
   "source": [
    "def show_truth():\n",
    "    # To prevent shadowing !!!\n",
    "    global mysterious_var\n",
    "    mysterious_var = 'New Surprise!'\n",
    "    print(mysterious_var)\n",
    "\n",
    "mysterious_var = 'Surprise!'\n",
    "print(mysterious_var)\n",
    "show_truth()\n",
    "print(mysterious_var)"
   ]
  },
  {
   "cell_type": "code",
   "execution_count": 7,
   "metadata": {},
   "outputs": [
    {
     "name": "stdout",
     "output_type": "stream",
     "text": [
      "['Surprise!']\n",
      "['Surprise!', 'New Surprise!']\n",
      "['Surprise!', 'New Surprise!']\n"
     ]
    }
   ],
   "source": [
    "def show_truth():\n",
    "    # To shadowing here because no variable assignment !!!\n",
    "    # This rule applies to Lists and dictionaries becaure they are mutable\n",
    "    # This rule does not apply to tupple because tupples are immutable\n",
    "    mysterious_var.append('New Surprise!')\n",
    "    print(mysterious_var)\n",
    "\n",
    "mysterious_var = ['Surprise!']\n",
    "print(mysterious_var)\n",
    "show_truth()\n",
    "print(mysterious_var)\n"
   ]
  },
  {
   "cell_type": "code",
   "execution_count": null,
   "metadata": {},
   "outputs": [],
   "source": []
  }
 ],
 "metadata": {
  "kernelspec": {
   "display_name": "Python 3 (ipykernel)",
   "language": "python",
   "name": "python3"
  },
  "language_info": {
   "codemirror_mode": {
    "name": "ipython",
    "version": 3
   },
   "file_extension": ".py",
   "mimetype": "text/x-python",
   "name": "python",
   "nbconvert_exporter": "python",
   "pygments_lexer": "ipython3",
   "version": "3.9.13"
  }
 },
 "nbformat": 4,
 "nbformat_minor": 2
}
