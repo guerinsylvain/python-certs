{
 "cells": [
  {
   "cell_type": "code",
   "execution_count": null,
   "id": "61ed1298",
   "metadata": {},
   "outputs": [],
   "source": [
    "# A closure is a technique for implementing lexically scoped name binding in a language with first-class functions.\n",
    "\n",
    "# A closure is a function defined inside another function that remembers the values of the outer function\n",
    "\n",
    "# Variables that should have been destroyed but are still available in a closure are called 'free variables'"
   ]
  },
  {
   "cell_type": "code",
   "execution_count": 3,
   "id": "759ed18a",
   "metadata": {},
   "outputs": [
    {
     "name": "stdout",
     "output_type": "stream",
     "text": [
      "Hello\n"
     ]
    }
   ],
   "source": [
    "def greet(text):\n",
    "    \n",
    "    def print_greet():\n",
    "        print(text)\n",
    "    \n",
    "    return print_greet\n",
    "\n",
    "say_hello = greet('Hello')\n",
    "say_hello()"
   ]
  },
  {
   "cell_type": "code",
   "execution_count": 6,
   "id": "eb6603b2",
   "metadata": {},
   "outputs": [
    {
     "name": "stdout",
     "output_type": "stream",
     "text": [
      "50\n",
      "100\n",
      "120\n",
      "240\n"
     ]
    }
   ],
   "source": [
    "def make_multiply_closure(x):\n",
    "    \n",
    "    def multiply(y):\n",
    "        return x * y\n",
    "    \n",
    "    return multiply\n",
    "\n",
    "multiply_5 = make_multiply_closure(5)\n",
    "multiply_12 = make_multiply_closure(12)\n",
    "\n",
    "print(multiply_5(10))\n",
    "print(multiply_5(20))\n",
    "\n",
    "print(multiply_12(10))\n",
    "print(multiply_12(20))"
   ]
  },
  {
   "cell_type": "code",
   "execution_count": 3,
   "id": "50478737",
   "metadata": {},
   "outputs": [
    {
     "name": "stdout",
     "output_type": "stream",
     "text": [
      "5\n",
      "None\n"
     ]
    }
   ],
   "source": [
    "def a():\n",
    " hey = 5\n",
    " \n",
    " def b():\n",
    "  print(hey)\n",
    " \n",
    " return b\n",
    " \n",
    "x = a()\n",
    "print(x())"
   ]
  },
  {
   "cell_type": "code",
   "execution_count": null,
   "id": "8e226f70",
   "metadata": {},
   "outputs": [],
   "source": []
  },
  {
   "cell_type": "code",
   "execution_count": null,
   "id": "ff99bcd3",
   "metadata": {},
   "outputs": [],
   "source": []
  }
 ],
 "metadata": {
  "kernelspec": {
   "display_name": "Python 3 (ipykernel)",
   "language": "python",
   "name": "python3"
  },
  "language_info": {
   "codemirror_mode": {
    "name": "ipython",
    "version": 3
   },
   "file_extension": ".py",
   "mimetype": "text/x-python",
   "name": "python",
   "nbconvert_exporter": "python",
   "pygments_lexer": "ipython3",
   "version": "3.9.13"
  }
 },
 "nbformat": 4,
 "nbformat_minor": 5
}
