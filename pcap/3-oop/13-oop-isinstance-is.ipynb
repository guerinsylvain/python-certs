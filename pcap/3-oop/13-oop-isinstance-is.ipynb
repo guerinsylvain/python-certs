{
 "cells": [
  {
   "cell_type": "code",
   "execution_count": 1,
   "id": "d0dc287b",
   "metadata": {},
   "outputs": [],
   "source": [
    "class Vehicle:\n",
    "    def __init__(self, speed):\n",
    "        self.speed = speed\n",
    "\n",
    "class LandVehicle(Vehicle):\n",
    "    def __init__(self, speed, wheel_count):\n",
    "        super().__init__(speed)\n",
    "        self.wheel_count = wheel_count\n",
    "\n",
    "class Car(LandVehicle):\n",
    "    pass"
   ]
  },
  {
   "cell_type": "code",
   "execution_count": 2,
   "id": "7d5153d5",
   "metadata": {},
   "outputs": [],
   "source": [
    "my_vehicle = Vehicle(50)\n",
    "my_land_vehicle = LandVehicle(50, 4)\n",
    "my_car = Car(60, 4)"
   ]
  },
  {
   "cell_type": "code",
   "execution_count": 3,
   "id": "f2e75f09",
   "metadata": {},
   "outputs": [
    {
     "name": "stdout",
     "output_type": "stream",
     "text": [
      "True\n",
      "True\n",
      "True\n"
     ]
    }
   ],
   "source": [
    "print(isinstance(my_vehicle, Vehicle))\n",
    "print(isinstance(my_land_vehicle, Vehicle))\n",
    "print(isinstance(my_car, Vehicle))"
   ]
  },
  {
   "cell_type": "code",
   "execution_count": 4,
   "id": "da8c74d1",
   "metadata": {},
   "outputs": [
    {
     "name": "stdout",
     "output_type": "stream",
     "text": [
      "False\n",
      "True\n",
      "True\n"
     ]
    }
   ],
   "source": [
    "print(isinstance(my_vehicle, LandVehicle))\n",
    "print(isinstance(my_land_vehicle, LandVehicle))\n",
    "print(isinstance(my_car, LandVehicle))"
   ]
  },
  {
   "cell_type": "code",
   "execution_count": 7,
   "id": "8950d296",
   "metadata": {},
   "outputs": [
    {
     "name": "stdout",
     "output_type": "stream",
     "text": [
      "False\n",
      "False\n",
      "True\n",
      "True\n",
      "True\n"
     ]
    }
   ],
   "source": [
    "print(isinstance(my_vehicle, Car))\n",
    "print(isinstance(my_land_vehicle, Car))\n",
    "print(isinstance(my_car, Car))\n",
    "print(isinstance(my_land_vehicle, LandVehicle))\n",
    "print(isinstance(my_land_vehicle, Vehicle))"
   ]
  },
  {
   "cell_type": "code",
   "execution_count": null,
   "id": "9d967e25",
   "metadata": {},
   "outputs": [],
   "source": [
    "my_vehicle = Vehicle(60)\n",
    "my_new_vehicle = my_vehicle"
   ]
  },
  {
   "cell_type": "code",
   "execution_count": null,
   "id": "695ef567",
   "metadata": {},
   "outputs": [],
   "source": [
    "print(my_vehicle is my_new_vehicle)"
   ]
  },
  {
   "cell_type": "code",
   "execution_count": null,
   "id": "bd0e5fc8",
   "metadata": {},
   "outputs": [],
   "source": [
    "print(my_vehicle.__dict__, my_new_vehicle.__dict__)\n",
    "my_vehicle.speed = 30\n",
    "print(my_vehicle.__dict__, my_new_vehicle.__dict__)"
   ]
  },
  {
   "cell_type": "code",
   "execution_count": null,
   "id": "9f3b8260",
   "metadata": {},
   "outputs": [],
   "source": [
    "my_vehicle = Vehicle(60)\n",
    "my_new_vehicle = Vehicle(60)"
   ]
  },
  {
   "cell_type": "code",
   "execution_count": null,
   "id": "3c2611f7",
   "metadata": {},
   "outputs": [],
   "source": [
    "print(my_vehicle.__dict__, my_new_vehicle.__dict__)\n",
    "my_vehicle.speed = 30\n",
    "print(my_vehicle.__dict__, my_new_vehicle.__dict__)"
   ]
  },
  {
   "cell_type": "code",
   "execution_count": null,
   "id": "7a9d5c69",
   "metadata": {},
   "outputs": [],
   "source": [
    "first_num = 5\n",
    "second_num = 5\n",
    "print(first_num is second_num)"
   ]
  },
  {
   "cell_type": "code",
   "execution_count": null,
   "id": "8d9aa890",
   "metadata": {},
   "outputs": [],
   "source": [
    "first_num = 5\n",
    "second_num = 2\n",
    "second_num += 3\n",
    "print(first_num is second_num)"
   ]
  },
  {
   "cell_type": "code",
   "execution_count": null,
   "id": "a31ed150",
   "metadata": {},
   "outputs": [],
   "source": [
    "first_str = 'hello'\n",
    "second_str = 'hello'\n",
    "print(first_str is second_str) #python optimization mechanism, the 2 strings points to the same memory"
   ]
  },
  {
   "cell_type": "code",
   "execution_count": null,
   "id": "d4e58409",
   "metadata": {},
   "outputs": [],
   "source": [
    "first_str = 'hello'\n",
    "second_str = 'hell'\n",
    "second_str += 'o'\n",
    "print(first_str is second_str)\n",
    "print(first_str == second_str)"
   ]
  },
  {
   "cell_type": "code",
   "execution_count": null,
   "id": "ef36cea2",
   "metadata": {},
   "outputs": [],
   "source": [
    "class X:\n",
    " pass\n",
    " \n",
    "print(issubclass(X, X))"
   ]
  }
 ],
 "metadata": {
  "kernelspec": {
   "display_name": "Python 3 (ipykernel)",
   "language": "python",
   "name": "python3"
  },
  "language_info": {
   "codemirror_mode": {
    "name": "ipython",
    "version": 3
   },
   "file_extension": ".py",
   "mimetype": "text/x-python",
   "name": "python",
   "nbconvert_exporter": "python",
   "pygments_lexer": "ipython3",
   "version": "3.9.13"
  }
 },
 "nbformat": 4,
 "nbformat_minor": 5
}
