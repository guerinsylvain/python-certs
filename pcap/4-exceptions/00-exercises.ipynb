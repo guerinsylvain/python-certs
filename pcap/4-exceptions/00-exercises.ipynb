{
 "cells": [
  {
   "cell_type": "code",
   "execution_count": 1,
   "id": "b5b9515a",
   "metadata": {},
   "outputs": [
    {
     "name": "stdout",
     "output_type": "stream",
     "text": [
      "ex\n"
     ]
    }
   ],
   "source": [
    "def my_fun(x):\n",
    "  try:\n",
    "    return x / x\n",
    "  except:\n",
    "    print('ex')\n",
    " \n",
    "my_fun(1)\n",
    "my_fun(0)"
   ]
  },
  {
   "cell_type": "code",
   "execution_count": 2,
   "id": "50b73e20",
   "metadata": {},
   "outputs": [
    {
     "name": "stdout",
     "output_type": "stream",
     "text": [
      "1\n"
     ]
    }
   ],
   "source": [
    "try:\n",
    "  raise Exception(2)\n",
    "except Exception as e:\n",
    "  print(len(e.args))"
   ]
  },
  {
   "cell_type": "code",
   "execution_count": 5,
   "id": "88e5e8ba",
   "metadata": {},
   "outputs": [
    {
     "name": "stdout",
     "output_type": "stream",
     "text": [
      "wrong!\n"
     ]
    }
   ],
   "source": [
    "class MyEx(Exception):\n",
    "  def __init__(self, msg):\n",
    "    Exception.__init__(self, msg+msg)\n",
    "    self.args = (msg,)\n",
    " \n",
    "try:\n",
    "  raise MyEx('wrong!')\n",
    "except Exception as e:\n",
    "  print(e)"
   ]
  },
  {
   "cell_type": "code",
   "execution_count": 7,
   "id": "d6219c5c",
   "metadata": {},
   "outputs": [
    {
     "name": "stdout",
     "output_type": "stream",
     "text": [
      "a\n",
      "c\n"
     ]
    }
   ],
   "source": [
    "x='5'\n",
    "\n",
    "try:\n",
    "  x > 3\n",
    "except:\n",
    "  print(\"a\")\n",
    "else:\n",
    "  print(\"b\")\n",
    "finally:\n",
    "  print(\"c\") "
   ]
  },
  {
   "cell_type": "code",
   "execution_count": 8,
   "id": "5b525608",
   "metadata": {},
   "outputs": [
    {
     "name": "stdout",
     "output_type": "stream",
     "text": [
      "Provide a number: a\n",
      "b\n"
     ]
    }
   ],
   "source": [
    "try:\n",
    "  val = int(input('Provide a number: '))\n",
    "  print(val/val)\n",
    "except TypeError:\n",
    "  print('a')\n",
    "except ValueError:\n",
    "  print('b')\n",
    "except ZeroDivisionError:\n",
    "  print('c')\n",
    "except:\n",
    "  print('d')"
   ]
  },
  {
   "cell_type": "code",
   "execution_count": 9,
   "id": "b3999901",
   "metadata": {},
   "outputs": [
    {
     "name": "stdout",
     "output_type": "stream",
     "text": [
      "What is your value? 0\n"
     ]
    },
    {
     "ename": "ZeroDivisionError",
     "evalue": "division by zero",
     "output_type": "error",
     "traceback": [
      "\u001b[1;31m---------------------------------------------------------------------------\u001b[0m",
      "\u001b[1;31mZeroDivisionError\u001b[0m                         Traceback (most recent call last)",
      "\u001b[1;32m~\\AppData\\Local\\Temp\\ipykernel_19228\\2422017381.py\u001b[0m in \u001b[0;36m<module>\u001b[1;34m\u001b[0m\n\u001b[0;32m      1\u001b[0m \u001b[0muser_input\u001b[0m \u001b[1;33m=\u001b[0m \u001b[0mint\u001b[0m\u001b[1;33m(\u001b[0m\u001b[0minput\u001b[0m\u001b[1;33m(\u001b[0m\u001b[1;34m'What is your value? '\u001b[0m\u001b[1;33m)\u001b[0m\u001b[1;33m)\u001b[0m\u001b[1;33m\u001b[0m\u001b[1;33m\u001b[0m\u001b[0m\n\u001b[1;32m----> 2\u001b[1;33m \u001b[0mprint\u001b[0m\u001b[1;33m(\u001b[0m\u001b[1;36m1\u001b[0m\u001b[1;33m/\u001b[0m\u001b[0muser_input\u001b[0m\u001b[1;33m)\u001b[0m\u001b[1;33m\u001b[0m\u001b[1;33m\u001b[0m\u001b[0m\n\u001b[0m",
      "\u001b[1;31mZeroDivisionError\u001b[0m: division by zero"
     ]
    }
   ],
   "source": [
    "user_input = int(input('What is your value? '))\n",
    "print(1/user_input)"
   ]
  },
  {
   "cell_type": "code",
   "execution_count": 1,
   "id": "f6d1faab",
   "metadata": {},
   "outputs": [
    {
     "ename": "SyntaxError",
     "evalue": "default 'except:' must be last (2854959799.py, line 2)",
     "output_type": "error",
     "traceback": [
      "\u001b[1;36m  File \u001b[1;32m\"C:\\Users\\sylva\\AppData\\Local\\Temp\\ipykernel_10176\\2854959799.py\"\u001b[1;36m, line \u001b[1;32m2\u001b[0m\n\u001b[1;33m    raise Exception\u001b[0m\n\u001b[1;37m    ^\u001b[0m\n\u001b[1;31mSyntaxError\u001b[0m\u001b[1;31m:\u001b[0m default 'except:' must be last\n"
     ]
    }
   ],
   "source": [
    "try:\n",
    " raise Exception\n",
    "except:\n",
    " print('a')\n",
    "except BaseException:\n",
    " print('b')\n",
    "except Exception:\n",
    " print('c')"
   ]
  },
  {
   "cell_type": "code",
   "execution_count": 2,
   "id": "d2be84f5",
   "metadata": {},
   "outputs": [
    {
     "name": "stdout",
     "output_type": "stream",
     "text": [
      "b\n"
     ]
    }
   ],
   "source": [
    "try:\n",
    " raise Exception\n",
    "except BaseException:\n",
    " print('b')\n",
    "except Exception:\n",
    " print('c')\n",
    "except:\n",
    " print('a')"
   ]
  }
 ],
 "metadata": {
  "kernelspec": {
   "display_name": "Python 3 (ipykernel)",
   "language": "python",
   "name": "python3"
  },
  "language_info": {
   "codemirror_mode": {
    "name": "ipython",
    "version": 3
   },
   "file_extension": ".py",
   "mimetype": "text/x-python",
   "name": "python",
   "nbconvert_exporter": "python",
   "pygments_lexer": "ipython3",
   "version": "3.9.13"
  }
 },
 "nbformat": 4,
 "nbformat_minor": 5
}
